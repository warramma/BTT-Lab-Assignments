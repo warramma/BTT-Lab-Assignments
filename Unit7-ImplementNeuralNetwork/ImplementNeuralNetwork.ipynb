{
 "cells": [
  {
   "cell_type": "markdown",
   "metadata": {},
   "source": [
    "# Assignment 7: Implement a Neural Network Using Keras"
   ]
  },
  {
   "cell_type": "code",
   "execution_count": 1,
   "metadata": {},
   "outputs": [],
   "source": [
    "import pandas as pd\n",
    "import numpy as np\n",
    "import os\n",
    "os.environ[\"TF_CPP_MIN_LOG_LEVEL\"] = \"2\" # suppress info and warning messages\n",
    "import matplotlib.pyplot as plt\n",
    "import seaborn as sns\n",
    "from sklearn.model_selection import train_test_split\n",
    "from sklearn.metrics import confusion_matrix\n",
    "import tensorflow.keras as keras\n",
    "import time"
   ]
  },
  {
   "cell_type": "markdown",
   "metadata": {},
   "source": [
    "In this assignment, you will implement a feedforward neural network using Keras for a binary classification problem. You will complete the following tasks:\n",
    "    \n",
    "1. Build your DataFrame and define your ML problem:\n",
    "    * Load the Airbnb \"listings\" data set\n",
    "    * Define the label - what are you predicting?\n",
    "    * Identify the features\n",
    "2. Prepare your data so that it is ready for modeling.\n",
    "3. Create labeled examples from the data set.\n",
    "4. Split the data into training and test data sets.\n",
    "5. Construct a neural network.\n",
    "6. Train the neural network.\n",
    "7. Evaluate the neural network model's performance on the training, validation and test data.\n",
    "8. Experiment with ways to improve the model's performance.\n",
    "\n",
    "For this assignment, use the demo <i>Implementing a Neural Network in Keras</i> that is contained in this unit as a reference.\n",
    "\n",
    "**<font color='red'>Note: some of the code cells in this notebook may take a while to run</font>**"
   ]
  },
  {
   "cell_type": "markdown",
   "metadata": {},
   "source": [
    "## Part 1. Build Your DataFrame and Define Your ML Problem\n",
    "\n",
    "#### Load a Data Set and Save it as a Pandas DataFrame\n",
    "\n",
    "We will work with the data set ``airbnbData_train``. \n",
    "\n",
    "<b>Task</b>: In the code cell below, use the same method you have been using to load the data using `pd.read_csv()` and save it to DataFrame `df`.\n",
    "\n",
    "You will be working with the file named \"airbnbData_train.csv\" that is located in a folder named \"data_NN\"."
   ]
  },
  {
   "cell_type": "code",
   "execution_count": 2,
   "metadata": {},
   "outputs": [],
   "source": [
    "# YOUR CODE HERE\n",
    "df = pd.read_csv(\"data_NN/airbnbData_train.csv\")"
   ]
  },
  {
   "cell_type": "markdown",
   "metadata": {},
   "source": [
    "#### Define the Label\n",
    "\n",
    "Your goal is to train a machine learning model that predicts whether an Airbnb host is a 'super host'. This is an example of supervised learning and is a binary classification problem. In our dataset, our label will be the `host_is_superhost` column and the label will either contain the value `True` or `False`.\n",
    "\n",
    "#### Identify Features\n",
    "\n",
    "Our features will be all of the remaining columns in the dataset."
   ]
  },
  {
   "cell_type": "markdown",
   "metadata": {},
   "source": [
    "## Part 2. Prepare Your Data\n",
    "\n",
    "Many data preparation techniques have already been performed and the data is almost ready for modeling; the data set has one-hot encoded categorical variables, scaled numerical values, and imputed missing values. However, the data set has a few features that have boolean values. When working with Keras, features should have floating point values.\n",
    "\n",
    "Let's convert these features from booleans to floats.\n",
    "\n",
    "<b>Task:</b> Using the Pandas `astype()` method, convert any boolean columns in DataFrame `df` to floating point columns. Use the online [documentation](https://pandas.pydata.org/docs/reference/api/pandas.DataFrame.astype.html) as a reference.  \n",
    "\n",
    "Note that there are a few different ways that you can accomplish this task. You can convert one boolean column at a time, or you can use the Pandas `select_dtypes()` method to find and return all boolean columns in DataFrame `df` and then convert the columns as a group. Use the online [documentation]( https://pandas.pydata.org/docs/reference/api/pandas.DataFrame.select_dtypes.html) as a reference. \n"
   ]
  },
  {
   "cell_type": "code",
   "execution_count": 3,
   "metadata": {},
   "outputs": [],
   "source": [
    "# YOUR CODE HERE\n",
    "boolean_columns = df.select_dtypes('boolean').columns\n",
    "\n",
    "df[boolean_columns] = df[boolean_columns].astype(float)"
   ]
  },
  {
   "cell_type": "markdown",
   "metadata": {},
   "source": [
    "Let's inspect the columns after the conversion. "
   ]
  },
  {
   "cell_type": "code",
   "execution_count": 4,
   "metadata": {},
   "outputs": [
    {
     "data": {
      "text/html": [
       "<div>\n",
       "<style scoped>\n",
       "    .dataframe tbody tr th:only-of-type {\n",
       "        vertical-align: middle;\n",
       "    }\n",
       "\n",
       "    .dataframe tbody tr th {\n",
       "        vertical-align: top;\n",
       "    }\n",
       "\n",
       "    .dataframe thead th {\n",
       "        text-align: right;\n",
       "    }\n",
       "</style>\n",
       "<table border=\"1\" class=\"dataframe\">\n",
       "  <thead>\n",
       "    <tr style=\"text-align: right;\">\n",
       "      <th></th>\n",
       "      <th>host_is_superhost</th>\n",
       "      <th>host_has_profile_pic</th>\n",
       "      <th>host_identity_verified</th>\n",
       "      <th>has_availability</th>\n",
       "      <th>instant_bookable</th>\n",
       "      <th>host_response_rate</th>\n",
       "      <th>host_acceptance_rate</th>\n",
       "      <th>host_listings_count</th>\n",
       "      <th>host_total_listings_count</th>\n",
       "      <th>accommodates</th>\n",
       "      <th>...</th>\n",
       "      <th>n_host_verifications</th>\n",
       "      <th>neighbourhood_group_cleansed_Bronx</th>\n",
       "      <th>neighbourhood_group_cleansed_Brooklyn</th>\n",
       "      <th>neighbourhood_group_cleansed_Manhattan</th>\n",
       "      <th>neighbourhood_group_cleansed_Queens</th>\n",
       "      <th>neighbourhood_group_cleansed_Staten Island</th>\n",
       "      <th>room_type_Entire home/apt</th>\n",
       "      <th>room_type_Hotel room</th>\n",
       "      <th>room_type_Private room</th>\n",
       "      <th>room_type_Shared room</th>\n",
       "    </tr>\n",
       "  </thead>\n",
       "  <tbody>\n",
       "    <tr>\n",
       "      <th>0</th>\n",
       "      <td>0.0</td>\n",
       "      <td>1.0</td>\n",
       "      <td>1.0</td>\n",
       "      <td>1.0</td>\n",
       "      <td>0.0</td>\n",
       "      <td>-0.578829</td>\n",
       "      <td>-2.845589</td>\n",
       "      <td>-0.054298</td>\n",
       "      <td>-0.054298</td>\n",
       "      <td>-1.007673</td>\n",
       "      <td>...</td>\n",
       "      <td>1.888373</td>\n",
       "      <td>0.0</td>\n",
       "      <td>0.0</td>\n",
       "      <td>1.0</td>\n",
       "      <td>0.0</td>\n",
       "      <td>0.0</td>\n",
       "      <td>1.0</td>\n",
       "      <td>0.0</td>\n",
       "      <td>0.0</td>\n",
       "      <td>0.0</td>\n",
       "    </tr>\n",
       "    <tr>\n",
       "      <th>1</th>\n",
       "      <td>0.0</td>\n",
       "      <td>1.0</td>\n",
       "      <td>1.0</td>\n",
       "      <td>1.0</td>\n",
       "      <td>0.0</td>\n",
       "      <td>-4.685756</td>\n",
       "      <td>-0.430024</td>\n",
       "      <td>-0.112284</td>\n",
       "      <td>-0.112284</td>\n",
       "      <td>0.067470</td>\n",
       "      <td>...</td>\n",
       "      <td>0.409419</td>\n",
       "      <td>0.0</td>\n",
       "      <td>1.0</td>\n",
       "      <td>0.0</td>\n",
       "      <td>0.0</td>\n",
       "      <td>0.0</td>\n",
       "      <td>1.0</td>\n",
       "      <td>0.0</td>\n",
       "      <td>0.0</td>\n",
       "      <td>0.0</td>\n",
       "    </tr>\n",
       "    <tr>\n",
       "      <th>2</th>\n",
       "      <td>0.0</td>\n",
       "      <td>1.0</td>\n",
       "      <td>1.0</td>\n",
       "      <td>1.0</td>\n",
       "      <td>0.0</td>\n",
       "      <td>0.578052</td>\n",
       "      <td>-2.473964</td>\n",
       "      <td>-0.112284</td>\n",
       "      <td>-0.112284</td>\n",
       "      <td>0.605041</td>\n",
       "      <td>...</td>\n",
       "      <td>-1.069535</td>\n",
       "      <td>0.0</td>\n",
       "      <td>1.0</td>\n",
       "      <td>0.0</td>\n",
       "      <td>0.0</td>\n",
       "      <td>0.0</td>\n",
       "      <td>1.0</td>\n",
       "      <td>0.0</td>\n",
       "      <td>0.0</td>\n",
       "      <td>0.0</td>\n",
       "    </tr>\n",
       "    <tr>\n",
       "      <th>3</th>\n",
       "      <td>0.0</td>\n",
       "      <td>1.0</td>\n",
       "      <td>0.0</td>\n",
       "      <td>1.0</td>\n",
       "      <td>0.0</td>\n",
       "      <td>0.578052</td>\n",
       "      <td>1.010024</td>\n",
       "      <td>-0.112284</td>\n",
       "      <td>-0.112284</td>\n",
       "      <td>-0.470102</td>\n",
       "      <td>...</td>\n",
       "      <td>-0.576550</td>\n",
       "      <td>0.0</td>\n",
       "      <td>0.0</td>\n",
       "      <td>1.0</td>\n",
       "      <td>0.0</td>\n",
       "      <td>0.0</td>\n",
       "      <td>0.0</td>\n",
       "      <td>0.0</td>\n",
       "      <td>1.0</td>\n",
       "      <td>0.0</td>\n",
       "    </tr>\n",
       "    <tr>\n",
       "      <th>4</th>\n",
       "      <td>0.0</td>\n",
       "      <td>1.0</td>\n",
       "      <td>1.0</td>\n",
       "      <td>1.0</td>\n",
       "      <td>0.0</td>\n",
       "      <td>-0.054002</td>\n",
       "      <td>-0.066308</td>\n",
       "      <td>-0.112284</td>\n",
       "      <td>-0.112284</td>\n",
       "      <td>-1.007673</td>\n",
       "      <td>...</td>\n",
       "      <td>0.902404</td>\n",
       "      <td>0.0</td>\n",
       "      <td>0.0</td>\n",
       "      <td>1.0</td>\n",
       "      <td>0.0</td>\n",
       "      <td>0.0</td>\n",
       "      <td>0.0</td>\n",
       "      <td>0.0</td>\n",
       "      <td>1.0</td>\n",
       "      <td>0.0</td>\n",
       "    </tr>\n",
       "  </tbody>\n",
       "</table>\n",
       "<p>5 rows × 50 columns</p>\n",
       "</div>"
      ],
      "text/plain": [
       "   host_is_superhost  host_has_profile_pic  host_identity_verified  \\\n",
       "0                0.0                   1.0                     1.0   \n",
       "1                0.0                   1.0                     1.0   \n",
       "2                0.0                   1.0                     1.0   \n",
       "3                0.0                   1.0                     0.0   \n",
       "4                0.0                   1.0                     1.0   \n",
       "\n",
       "   has_availability  instant_bookable  host_response_rate  \\\n",
       "0               1.0               0.0           -0.578829   \n",
       "1               1.0               0.0           -4.685756   \n",
       "2               1.0               0.0            0.578052   \n",
       "3               1.0               0.0            0.578052   \n",
       "4               1.0               0.0           -0.054002   \n",
       "\n",
       "   host_acceptance_rate  host_listings_count  host_total_listings_count  \\\n",
       "0             -2.845589            -0.054298                  -0.054298   \n",
       "1             -0.430024            -0.112284                  -0.112284   \n",
       "2             -2.473964            -0.112284                  -0.112284   \n",
       "3              1.010024            -0.112284                  -0.112284   \n",
       "4             -0.066308            -0.112284                  -0.112284   \n",
       "\n",
       "   accommodates  ...  n_host_verifications  \\\n",
       "0     -1.007673  ...              1.888373   \n",
       "1      0.067470  ...              0.409419   \n",
       "2      0.605041  ...             -1.069535   \n",
       "3     -0.470102  ...             -0.576550   \n",
       "4     -1.007673  ...              0.902404   \n",
       "\n",
       "   neighbourhood_group_cleansed_Bronx  neighbourhood_group_cleansed_Brooklyn  \\\n",
       "0                                 0.0                                    0.0   \n",
       "1                                 0.0                                    1.0   \n",
       "2                                 0.0                                    1.0   \n",
       "3                                 0.0                                    0.0   \n",
       "4                                 0.0                                    0.0   \n",
       "\n",
       "   neighbourhood_group_cleansed_Manhattan  \\\n",
       "0                                     1.0   \n",
       "1                                     0.0   \n",
       "2                                     0.0   \n",
       "3                                     1.0   \n",
       "4                                     1.0   \n",
       "\n",
       "   neighbourhood_group_cleansed_Queens  \\\n",
       "0                                  0.0   \n",
       "1                                  0.0   \n",
       "2                                  0.0   \n",
       "3                                  0.0   \n",
       "4                                  0.0   \n",
       "\n",
       "   neighbourhood_group_cleansed_Staten Island  room_type_Entire home/apt  \\\n",
       "0                                         0.0                        1.0   \n",
       "1                                         0.0                        1.0   \n",
       "2                                         0.0                        1.0   \n",
       "3                                         0.0                        0.0   \n",
       "4                                         0.0                        0.0   \n",
       "\n",
       "   room_type_Hotel room  room_type_Private room  room_type_Shared room  \n",
       "0                   0.0                     0.0                    0.0  \n",
       "1                   0.0                     0.0                    0.0  \n",
       "2                   0.0                     0.0                    0.0  \n",
       "3                   0.0                     1.0                    0.0  \n",
       "4                   0.0                     1.0                    0.0  \n",
       "\n",
       "[5 rows x 50 columns]"
      ]
     },
     "execution_count": 4,
     "metadata": {},
     "output_type": "execute_result"
    }
   ],
   "source": [
    "df.head()"
   ]
  },
  {
   "cell_type": "markdown",
   "metadata": {},
   "source": [
    "## Part 3. Create Labeled Examples from the Data Set \n",
    "\n",
    "<b>Task</b>: In the code cell below, create labeled examples from DataFrame `df`."
   ]
  },
  {
   "cell_type": "code",
   "execution_count": 5,
   "metadata": {},
   "outputs": [],
   "source": [
    "# YOUR CODE HERE\n",
    "y = df['host_is_superhost']\n",
    "X = df.drop(columns='host_is_superhost')"
   ]
  },
  {
   "cell_type": "markdown",
   "metadata": {},
   "source": [
    "## Part 4. Create Training and Test Data Sets\n",
    "\n",
    "<b>Task</b>: In the code cell below, create training and test sets out of the labeled examples. Create a test set that is 25 percent of the size of the data set. Save the results to variables `X_train, X_test, y_train, y_test`.\n"
   ]
  },
  {
   "cell_type": "code",
   "execution_count": 6,
   "metadata": {},
   "outputs": [],
   "source": [
    "# YOUR CODE HERE\n",
    "X_train, X_test, y_train, y_test = train_test_split(X, y, test_size = 0.25, random_state=1234)"
   ]
  },
  {
   "cell_type": "code",
   "execution_count": 7,
   "metadata": {},
   "outputs": [
    {
     "data": {
      "text/plain": [
       "(21016, 49)"
      ]
     },
     "execution_count": 7,
     "metadata": {},
     "output_type": "execute_result"
    }
   ],
   "source": [
    "X_train.shape"
   ]
  },
  {
   "cell_type": "markdown",
   "metadata": {},
   "source": [
    "## Part 5. Construct the Neural Network\n"
   ]
  },
  {
   "cell_type": "markdown",
   "metadata": {},
   "source": [
    "### Step 1.  Define Model Structure\n",
    "\n",
    "Next we will create our neural network structure. We will create an input layer, three hidden layers and an output layer:\n",
    "\n",
    "* <b>Input layer</b>: The input layer will have the input shape corresponding to the number of features. \n",
    "* <b>Hidden layers</b>: We will create three hidden layers of widths (number of nodes) 64, 32, and 16. They will utilize the ReLU activation function. \n",
    "* <b>Output layer</b>: The output layer will have a width of 1. The output layer will utilize the sigmoid activation function. Since we are working with binary classification, we will be using the sigmoid activation function to map the output to a probability between 0.0 and 1.0. We can later set a threshold and assume that the prediction is class 1 if the probability is larger than or equal to our threshold, or class 0 if it is lower than our threshold.\n",
    "\n",
    "To construct the neural network model using Keras, we will do the following:\n",
    "* We will use the Keras `Sequential` class to group a stack of layers. This will be our neural network model object. For more information, consult the Keras online [documentation](https://keras.io/api/models/sequential/#sequential-class).\n",
    "* We will use the `InputLayer` class to create the input layer. For more information, consult  the Keras online [documentation](https://www.tensorflow.org/api_docs/python/tf/keras/layers/InputLayer).\n",
    "* We will use the `Dense` class to create each hidden layer and the output layer. For more information, consult the Keras online [documentation](https://keras.io/api/layers/core_layers/dense/).\n",
    "* We will add each layer to the neural network model object.\n",
    "\n",
    "\n",
    "<b>Task:</b> Follow these steps to complete the code in the cell below:\n",
    "\n",
    "1. Create the neural network model object. \n",
    "    * Use ``keras.Sequential() `` to create a model object, and assign the result to the variable ```nn_model```.\n",
    "    \n",
    "    \n",
    "2. Create the input layer: \n",
    "    * Call `keras.layers.InputLayer()` with the argument `input_shape` to specify the dimensions of the input. In this case, the dimensions will be the number of features (coumns) in `X_train`. Assign the number of features to the argument `input_shape`.\n",
    "    * Assign the results to the variable `input_layer`.\n",
    "    * Use `nn_model.add(input_layer)` to add the layer `input_layer` to the neural network model object.\n",
    "\n",
    "\n",
    "3. Create the first hidden layer:\n",
    "    * Call `keras.layers.Dense()` with the arguments `units=64` and `activation='relu'`. \n",
    "    * Assign the results to the variable `hidden_layer_1`.\n",
    "    * Use `nn_model.add(hidden_layer_1)` to add the layer `hidden_layer_1` to the neural network model object.\n",
    "\n",
    "\n",
    "4. Create the second hidden layer using the same approach that you used to create the first hidden layer, specifying 32 units and the `relu` activation function. \n",
    "    * Assign the results to the variable `hidden_layer_2`.\n",
    "    * Add the layer to the neural network model object.\n",
    "    \n",
    "    \n",
    "5. Create the third hidden layer using the same approach that you used to create the first two hidden layers, specifying 16 units and the `relu` activation function. \n",
    "    * Assign the results to the variable `hidden_layer_3`.\n",
    "    * Add the layer to the neural network model object.\n",
    "\n",
    "\n",
    "6. Create the output layer using the same approach that you used to create the hidden layers, specifying 1 unit and the `sigmoid` activation function. \n",
    "   * Assign the results to the variable `output_layer`.\n",
    "   * Add the layer to the neural network model object.\n",
    "   "
   ]
  },
  {
   "cell_type": "code",
   "execution_count": 8,
   "metadata": {},
   "outputs": [
    {
     "name": "stdout",
     "output_type": "stream",
     "text": [
      "Model: \"sequential\"\n",
      "_________________________________________________________________\n",
      "Layer (type)                 Output Shape              Param #   \n",
      "=================================================================\n",
      "dense (Dense)                (None, 64)                3200      \n",
      "_________________________________________________________________\n",
      "dense_1 (Dense)              (None, 32)                2080      \n",
      "_________________________________________________________________\n",
      "dense_2 (Dense)              (None, 16)                528       \n",
      "_________________________________________________________________\n",
      "dense_3 (Dense)              (None, 1)                 17        \n",
      "=================================================================\n",
      "Total params: 5,825\n",
      "Trainable params: 5,825\n",
      "Non-trainable params: 0\n",
      "_________________________________________________________________\n"
     ]
    }
   ],
   "source": [
    "# 1. Create model object:\n",
    "nn_model = keras.Sequential()\n",
    "\n",
    "# 2. Create the input layer and add it to the model object: \n",
    "# Create input layer:\n",
    "input_shape = X_train.shape[1]\n",
    "input_layer = keras.layers.InputLayer(input_shape)\n",
    "# Add input_layer to the model object:\n",
    "# YOUR CODE HERE\n",
    "nn_model.add(input_layer)\n",
    "\n",
    "# 3. Create the first hidden layer and add it to the model object:\n",
    "# Create hidden layer:\n",
    "hidden_layer_1 = keras.layers.Dense(units=64, activation = 'relu')\n",
    "# Add hidden_layer_1 to the model object:\n",
    "# YOUR CODE HERE\n",
    "nn_model.add(hidden_layer_1)\n",
    "\n",
    "# 4. Create the second hidden layer and add it to the model object:\n",
    "# Create hidden layer:\n",
    "hidden_layer_2 = keras.layers.Dense(units=32, activation='relu')\n",
    "# Add hidden_layer_2 to the model object:\n",
    "# YOUR CODE HERE\n",
    "nn_model.add(hidden_layer_2)\n",
    "\n",
    "# 5. Create the third hidden layer and add it to the model object:\n",
    "# Create hidden layer:\n",
    "hidden_layer_3 = keras.layers.Dense(units=16, activation = 'relu')\n",
    "# Add hidden_layer_3 to the model object:\n",
    "# YOUR CODE HERE\n",
    "nn_model.add(hidden_layer_3)\n",
    "\n",
    "# 6. Create the output layer and add it to the model object:\n",
    "# Create output layer:\n",
    "output_layer = keras.layers.Dense(units=1, activation='sigmoid')\n",
    "# Add output_layer to the model object:\n",
    "# YOUR CODE HERE\n",
    "nn_model.add(output_layer)\n",
    "\n",
    "\n",
    "# Print summary of neural network model structure\n",
    "nn_model.summary()"
   ]
  },
  {
   "cell_type": "markdown",
   "metadata": {},
   "source": [
    "### Step 2. Define the Optimization Function\n",
    "\n",
    "<b>Task:</b> In the code cell below, create a stochastic gradient descent optimizer using  `keras.optimizers.SGD()`. Specify a learning rate of 0.1 using the `learning_rate` parameter. Assign the result to the variable`sgd_optimizer`."
   ]
  },
  {
   "cell_type": "code",
   "execution_count": 9,
   "metadata": {},
   "outputs": [],
   "source": [
    "sgd_optimizer = keras.optimizers.SGD(learning_rate = 0.1)"
   ]
  },
  {
   "cell_type": "markdown",
   "metadata": {},
   "source": [
    "### Step 3. Define the Loss Function\n",
    "\n",
    "<b>Task:</b> In the code cell below, create a binary cross entropy loss function using `keras.losses.BinaryCrossentropy()`. Use  the parameter `from_logits=False`. Assign the result to the variable  `loss_fn`."
   ]
  },
  {
   "cell_type": "code",
   "execution_count": 10,
   "metadata": {},
   "outputs": [],
   "source": [
    "loss_fn = keras.losses.BinaryCrossentropy(from_logits=False)"
   ]
  },
  {
   "cell_type": "markdown",
   "metadata": {},
   "source": [
    "### Step 4. Compile the Model\n",
    "\n",
    "<b>Task:</b> In the code cell below, package the network architecture with the optimizer and the loss function using the `compile()` method. \n",
    "\n",
    "\n",
    "You will specify the optimizer, loss function and accuracy evaluation metric. Call the `nn_model.compile()` method with the following arguments:\n",
    "* Use the `optimizer` parameter and assign it your optimizer variable:`optimizer=sgd_optimizer`\n",
    "* Use the `loss` parameter and assign it your loss function variable: `loss=loss_fn`\n",
    "* Use the `metrics` parameter and assign it the `accuracy` evaluation metric: `metrics=['accuracy']`\n",
    "   "
   ]
  },
  {
   "cell_type": "code",
   "execution_count": 11,
   "metadata": {},
   "outputs": [],
   "source": [
    "# YOUR CODE HERE\n",
    "nn_model.compile(optimizer=sgd_optimizer, loss=loss_fn, metrics=['accuracy'])"
   ]
  },
  {
   "cell_type": "markdown",
   "metadata": {},
   "source": [
    "## Part 6. Fit the Model to the Training Data"
   ]
  },
  {
   "cell_type": "markdown",
   "metadata": {},
   "source": [
    "We will define our own callback class to output information from our model while it is training. Make sure you execute the code cell below so that it can be used in subsequent cells."
   ]
  },
  {
   "cell_type": "code",
   "execution_count": 12,
   "metadata": {},
   "outputs": [],
   "source": [
    "class ProgBarLoggerNEpochs(keras.callbacks.Callback):\n",
    "    \n",
    "    def __init__(self, num_epochs: int, every_n: int = 50):\n",
    "        self.num_epochs = num_epochs\n",
    "        self.every_n = every_n\n",
    "    \n",
    "    def on_epoch_end(self, epoch, logs=None):\n",
    "        if (epoch + 1) % self.every_n == 0:\n",
    "            s = 'Epoch [{}/ {}]'.format(epoch + 1, self.num_epochs)\n",
    "            logs_s = ['{}: {:.4f}'.format(k.capitalize(), v)\n",
    "                      for k, v in logs.items()]\n",
    "            s_list = [s] + logs_s\n",
    "            print(', '.join(s_list))\n"
   ]
  },
  {
   "cell_type": "markdown",
   "metadata": {},
   "source": [
    "<b>Task:</b> In the code cell below, fit the neural network model to the training data.\n",
    "\n",
    "1. Call `nn_model.fit()` with the training data `X_train` and `y_train` as arguments. \n",
    "\n",
    "2. In addition, specify the following parameters:\n",
    "\n",
    "    * Use the `epochs` parameter and assign it the variable to `epochs`: `epochs=num_epochs`\n",
    "    * Use the `verbose` parameter and assign it the value of  0: `verbose=0`\n",
    "    * Use the `callbacks` parameter and assign it a list containing our logger function: \n",
    "    `callbacks=[ProgBarLoggerNEpochs(num_epochs, every_n=5)]`  \n",
    "    * We will use a portion of our training data to serve as validation data. Use the  `validation_split` parameter and assign it the value `0.2`\n",
    "    \n",
    "3. Save the results to the variable `history`. \n",
    "\n",
    "<b>Note</b>: This may take a while to run."
   ]
  },
  {
   "cell_type": "code",
   "execution_count": 13,
   "metadata": {},
   "outputs": [
    {
     "name": "stdout",
     "output_type": "stream",
     "text": [
      "Epoch [5/ 100], Loss: 0.3542, Accuracy: 0.8405, Val_loss: 0.3875, Val_accuracy: 0.8259\n",
      "Epoch [10/ 100], Loss: 0.3329, Accuracy: 0.8492, Val_loss: 0.3712, Val_accuracy: 0.8304\n",
      "Epoch [15/ 100], Loss: 0.3152, Accuracy: 0.8589, Val_loss: 0.3800, Val_accuracy: 0.8323\n",
      "Epoch [20/ 100], Loss: 0.3024, Accuracy: 0.8654, Val_loss: 0.3747, Val_accuracy: 0.8287\n",
      "Epoch [25/ 100], Loss: 0.2900, Accuracy: 0.8697, Val_loss: 0.3726, Val_accuracy: 0.8328\n",
      "Epoch [30/ 100], Loss: 0.2784, Accuracy: 0.8766, Val_loss: 0.3789, Val_accuracy: 0.8344\n",
      "Epoch [35/ 100], Loss: 0.2685, Accuracy: 0.8824, Val_loss: 0.4084, Val_accuracy: 0.8380\n",
      "Epoch [40/ 100], Loss: 0.2570, Accuracy: 0.8874, Val_loss: 0.4007, Val_accuracy: 0.8325\n",
      "Epoch [45/ 100], Loss: 0.2507, Accuracy: 0.8924, Val_loss: 0.4141, Val_accuracy: 0.8302\n",
      "Epoch [50/ 100], Loss: 0.2382, Accuracy: 0.8983, Val_loss: 0.4209, Val_accuracy: 0.8247\n",
      "Epoch [55/ 100], Loss: 0.2265, Accuracy: 0.9016, Val_loss: 0.4608, Val_accuracy: 0.8271\n",
      "Epoch [60/ 100], Loss: 0.2230, Accuracy: 0.9036, Val_loss: 0.4607, Val_accuracy: 0.8247\n",
      "Epoch [65/ 100], Loss: 0.2104, Accuracy: 0.9096, Val_loss: 0.4574, Val_accuracy: 0.8199\n",
      "Epoch [70/ 100], Loss: 0.2028, Accuracy: 0.9126, Val_loss: 0.5062, Val_accuracy: 0.8256\n",
      "Epoch [75/ 100], Loss: 0.1990, Accuracy: 0.9147, Val_loss: 0.4878, Val_accuracy: 0.8166\n",
      "Epoch [80/ 100], Loss: 0.1985, Accuracy: 0.9176, Val_loss: 0.5397, Val_accuracy: 0.8261\n",
      "Epoch [85/ 100], Loss: 0.1829, Accuracy: 0.9237, Val_loss: 0.5056, Val_accuracy: 0.8192\n",
      "Epoch [90/ 100], Loss: 0.1822, Accuracy: 0.9221, Val_loss: 0.5689, Val_accuracy: 0.8145\n",
      "Epoch [95/ 100], Loss: 0.1787, Accuracy: 0.9252, Val_loss: 0.5490, Val_accuracy: 0.8223\n",
      "Epoch [100/ 100], Loss: 0.1726, Accuracy: 0.9282, Val_loss: 0.5787, Val_accuracy: 0.8149\n",
      "Elapsed time: 183.72s\n"
     ]
    }
   ],
   "source": [
    "t0 = time.time() # start time\n",
    "\n",
    "num_epochs = 100 # epochs\n",
    "\n",
    "history = nn_model.fit(X_train, y_train, epochs=num_epochs, verbose=0, callbacks=[ProgBarLoggerNEpochs(num_epochs, every_n=5)], validation_split=0.2)\n",
    "\n",
    "\n",
    "t1 = time.time() # stop time\n",
    "\n",
    "print('Elapsed time: %.2fs' % (t1-t0))"
   ]
  },
  {
   "cell_type": "code",
   "execution_count": 14,
   "metadata": {},
   "outputs": [
    {
     "data": {
      "text/plain": [
       "dict_keys(['loss', 'accuracy', 'val_loss', 'val_accuracy'])"
      ]
     },
     "execution_count": 14,
     "metadata": {},
     "output_type": "execute_result"
    }
   ],
   "source": [
    "history.history.keys()"
   ]
  },
  {
   "cell_type": "markdown",
   "metadata": {},
   "source": [
    "### Visualize the Model's Performance Over Time\n",
    "\n",
    "The code below outputs both the training loss and accuracy and the validation loss and accuracy. Let us visualize the model's performance over time:"
   ]
  },
  {
   "cell_type": "code",
   "execution_count": 15,
   "metadata": {},
   "outputs": [
    {
     "data": {
      "image/png": "[encoded data removed]",
      "text/plain": [
       "<Figure size 432x288 with 1 Axes>"
      ]
     },
     "metadata": {
      "needs_background": "light"
     },
     "output_type": "display_data"
    },
    {
     "data": {
      "image/png": "[encoded data removed]",
      "text/plain": [
       "<Figure size 432x288 with 1 Axes>"
      ]
     },
     "metadata": {
      "needs_background": "light"
     },
     "output_type": "display_data"
    }
   ],
   "source": [
    "# Plot training and validation loss\n",
    "plt.plot(range(1, num_epochs + 1), history.history['loss'], label='Training Loss')\n",
    "plt.plot(range(1, num_epochs + 1), history.history['val_loss'], label='Validation Loss')\n",
    "\n",
    "plt.xlabel('Epoch')\n",
    "plt.ylabel('Loss')\n",
    "plt.legend()\n",
    "plt.show()\n",
    "\n",
    "\n",
    "# Plot training and validation accuracy\n",
    "plt.plot(range(1, num_epochs + 1), history.history['accuracy'], label='Training Accuracy')\n",
    "plt.plot(range(1, num_epochs + 1), history.history['val_accuracy'], label='Validation Accuracy')\n",
    "\n",
    "plt.xlabel('Epoch')\n",
    "plt.ylabel('Accuracy')\n",
    "plt.legend()\n",
    "plt.show()\n"
   ]
  },
  {
   "cell_type": "markdown",
   "metadata": {},
   "source": [
    "## Part 7. Evaluate the Model's Performance"
   ]
  },
  {
   "cell_type": "markdown",
   "metadata": {},
   "source": [
    "We just evaluated our model's performance on the training and validation data. Let's now evaluate its performance on our test data and compare the results.\n",
    "\n",
    "Keras makes the process of evaluating our model very easy. Recall that when we compiled the model, we specified the metric that we wanted to use to evaluate the model: accuracy. The Keras method `evaluate()` will return the loss and accuracy score of our model on our test data."
   ]
  },
  {
   "cell_type": "markdown",
   "metadata": {},
   "source": [
    "<b>Task:</b> In the code cell below, call `nn_model.evaluate()` with `X_test` and `y_test` as arguments. \n",
    "\n",
    "Note: The `evaluate()` method returns a list containing two values. The first value is the loss and the second value is the accuracy score.\n"
   ]
  },
  {
   "cell_type": "code",
   "execution_count": 16,
   "metadata": {},
   "outputs": [
    {
     "name": "stdout",
     "output_type": "stream",
     "text": [
      "219/219 [==============================] - 1s 2ms/step - loss: 0.6202 - accuracy: 0.8220\n",
      "Loss: 0.6202088594436646 Accuracy: 0.8220096826553345\n"
     ]
    }
   ],
   "source": [
    "loss, accuracy = nn_model.evaluate(X_test, y_test)\n",
    "\n",
    "print('Loss: {0} Accuracy: {1}'.format(loss, accuracy))"
   ]
  },
  {
   "cell_type": "markdown",
   "metadata": {},
   "source": [
    "Next, for every example in the test set, we will make a prediction using the `predict()` method, receive a probability between 0.0 and 1.0, and then apply a threshold (we will use a threshold of 0.6) to obtain the predicted class. We will save the class label predictions to list `class_label_predictions`."
   ]
  },
  {
   "cell_type": "code",
   "execution_count": 17,
   "metadata": {},
   "outputs": [],
   "source": [
    "# Make predictions on the test set\n",
    "probability_predictions = nn_model.predict(X_test)\n",
    "class_label_predictions=[]\n",
    "\n",
    "for i in range(0,len(y_test)):\n",
    "    if probability_predictions[i] >= 0.6:\n",
    "        class_label_predictions.append(1)\n",
    "    else:\n",
    "        class_label_predictions.append(0)\n"
   ]
  },
  {
   "cell_type": "markdown",
   "metadata": {},
   "source": [
    "<b>Task</b>: In the code cell below, create a confusion matrix out of `y_test` and the list `class_label_predictions`."
   ]
  },
  {
   "cell_type": "code",
   "execution_count": 18,
   "metadata": {},
   "outputs": [
    {
     "data": {
      "image/png": "[encoded data removed]",
      "text/plain": [
       "<Figure size 576x432 with 1 Axes>"
      ]
     },
     "metadata": {
      "needs_background": "light"
     },
     "output_type": "display_data"
    }
   ],
   "source": [
    "# YOUR CODE HERE\n",
    "cm = confusion_matrix(y_test, class_label_predictions)\n",
    "class_labels = ['Class 0 (Not Superhost)', 'Class 1 (Superhost)'] \n",
    "plt.figure(figsize=(8, 6)) \n",
    "sns.heatmap(cm,\n",
    "            annot=True,     \n",
    "            fmt='d',        \n",
    "            cmap='Blues',   \n",
    "            cbar=False,     \n",
    "            xticklabels=class_labels,\n",
    "            yticklabels=class_labels) \n",
    "\n",
    "plt.xlabel('Predicted Label', fontsize=14)\n",
    "plt.ylabel('True Label', fontsize=14)\n",
    "plt.title('Confusion Matrix', fontsize=16)\n",
    "plt.show()"
   ]
  },
  {
   "cell_type": "markdown",
   "metadata": {},
   "source": [
    "## Part 8. Analysis\n",
    "\n",
    "Experiment with the neural network implementation above and compare your results every time you train the network. Pay attention to the time it takes to train the network, and the resulting loss and accuracy on both the training and test data. \n",
    "\n",
    "Below are some ideas for things you can try:\n",
    "\n",
    "* Adjust the learning rate.\n",
    "* Change the number of epochs by experimenting with different values for the variable `num_epochs`.\n",
    "* Add more hidden layers and/or experiment with different values for the `unit` parameter in the hidden layers to change the number of nodes in the hidden layers.\n",
    "\n",
    "\n",
    "Record your findings in the cell below."
   ]
  },
  {
   "cell_type": "code",
   "execution_count": 21,
   "metadata": {},
   "outputs": [
    {
     "name": "stdout",
     "output_type": "stream",
     "text": [
      "Epoch [10/ 100], Loss: 0.3726, Accuracy: 0.8339, Val_loss: 0.3886, Val_accuracy: 0.8216\n",
      "Epoch [20/ 100], Loss: 0.3460, Accuracy: 0.8446, Val_loss: 0.3731, Val_accuracy: 0.8292\n",
      "Epoch [30/ 100], Loss: 0.3305, Accuracy: 0.8511, Val_loss: 0.3714, Val_accuracy: 0.8275\n",
      "Epoch [40/ 100], Loss: 0.3182, Accuracy: 0.8558, Val_loss: 0.3743, Val_accuracy: 0.8418\n",
      "Epoch [50/ 100], Loss: 0.3073, Accuracy: 0.8623, Val_loss: 0.3776, Val_accuracy: 0.8306\n",
      "Epoch [60/ 100], Loss: 0.2973, Accuracy: 0.8674, Val_loss: 0.3724, Val_accuracy: 0.8347\n",
      "Epoch [70/ 100], Loss: 0.2890, Accuracy: 0.8701, Val_loss: 0.3773, Val_accuracy: 0.8273\n",
      "Epoch [80/ 100], Loss: 0.2801, Accuracy: 0.8749, Val_loss: 0.3839, Val_accuracy: 0.8390\n",
      "Epoch [90/ 100], Loss: 0.2733, Accuracy: 0.8781, Val_loss: 0.3845, Val_accuracy: 0.8302\n",
      "Epoch [100/ 100], Loss: 0.2647, Accuracy: 0.8838, Val_loss: 0.4234, Val_accuracy: 0.8363\n",
      "\n",
      "Lower LR Model Elapsed Training Time: 127.84s\n",
      "Lower LR Test Loss: 0.4277 Accuracy: 0.8289\n"
     ]
    },
    {
     "data": {
      "image/png": "[encoded data removed]",
      "text/plain": [
       "<Figure size 576x432 with 1 Axes>"
      ]
     },
     "metadata": {
      "needs_background": "light"
     },
     "output_type": "display_data"
    },
    {
     "name": "stdout",
     "output_type": "stream",
     "text": [
      "\n",
      "Classification Report: Lower Learning Rate (LR=0.01)\n",
      "--------------------------------------------------\n"
     ]
    }
   ],
   "source": [
    "#try adjusting learning rate\n",
    "lr_model = keras.Sequential()\n",
    "lr_model.add(keras.layers.InputLayer(input_shape=input_shape))\n",
    "lr_model.add(keras.layers.Dense(units=64, activation='relu'))\n",
    "lr_model.add(keras.layers.Dense(units=32, activation='relu'))\n",
    "lr_model.add(keras.layers.Dense(units=16, activation='relu'))\n",
    "lr_model.add(keras.layers.Dense(units=1, activation='sigmoid'))\n",
    "\n",
    "lr_optimizer = keras.optimizers.SGD(learning_rate=0.01) # LOWERED LEARNING RATE\n",
    "\n",
    "lr_loss_fn = keras.losses.BinaryCrossentropy(from_logits=False)\n",
    "\n",
    "lr_model.compile(optimizer=lr_optimizer, loss=lr_loss_fn, metrics=['accuracy'])\n",
    "\n",
    "num_epochs_lr = 100 # Same epochs as baseline\n",
    "t0_lr = time.time()\n",
    "history_lr = lr_model.fit(\n",
    "    X_train, y_train,\n",
    "    epochs=num_epochs_lr,\n",
    "    verbose=0,\n",
    "    callbacks=[ProgBarLoggerNEpochs(num_epochs_lr, every_n=10)],\n",
    "    validation_split=0.2,\n",
    ")\n",
    "t1_lr = time.time()\n",
    "print(f'\\nLower LR Model Elapsed Training Time: {t1_lr - t0_lr:.2f}s')\n",
    "loss_lr, accuracy_lr = lr_model.evaluate(X_test, y_test, verbose=0)\n",
    "print(f'Lower LR Test Loss: {loss_lr:.4f} Accuracy: {accuracy_lr:.4f}')\n",
    "\n",
    "probability_predictions_lr = lr_model.predict(X_test)\n",
    "class_label_predictions_lr = (probability_predictions_lr >= 0.5).astype(int).flatten()\n",
    "\n",
    "cm_lr = confusion_matrix(y_test, class_label_predictions_lr)\n",
    "plt.figure(figsize=(8, 6))\n",
    "sns.heatmap(cm_lr, annot=True, fmt='d', cmap='Blues', cbar=False,\n",
    "            xticklabels=class_labels, yticklabels=class_labels)\n",
    "plt.xlabel('Predicted Label', fontsize=14)\n",
    "plt.ylabel('True Label', fontsize=14)\n",
    "plt.title('Confusion Matrix: Lower Learning Rate (LR=0.01)', fontsize=16)\n",
    "plt.show()\n",
    "\n",
    "print(\"\\nClassification Report: Lower Learning Rate (LR=0.01)\")\n",
    "\n",
    "print(\"-\" * 50)"
   ]
  },
  {
   "cell_type": "code",
   "execution_count": 22,
   "metadata": {},
   "outputs": [
    {
     "name": "stdout",
     "output_type": "stream",
     "text": [
      "Epoch [10/ 200], Loss: 0.3334, Accuracy: 0.8525, Val_loss: 0.3819, Val_accuracy: 0.8211\n",
      "Epoch [20/ 200], Loss: 0.3025, Accuracy: 0.8666, Val_loss: 0.3674, Val_accuracy: 0.8349\n",
      "Epoch [30/ 200], Loss: 0.2831, Accuracy: 0.8738, Val_loss: 0.3773, Val_accuracy: 0.8352\n",
      "Epoch [40/ 200], Loss: 0.2626, Accuracy: 0.8840, Val_loss: 0.3934, Val_accuracy: 0.8280\n",
      "Epoch [50/ 200], Loss: 0.2435, Accuracy: 0.8926, Val_loss: 0.4706, Val_accuracy: 0.8011\n",
      "Epoch [60/ 200], Loss: 0.2240, Accuracy: 0.9036, Val_loss: 0.4829, Val_accuracy: 0.8240\n",
      "Epoch [70/ 200], Loss: 0.2050, Accuracy: 0.9118, Val_loss: 0.5595, Val_accuracy: 0.7919\n",
      "Epoch [80/ 200], Loss: 0.1951, Accuracy: 0.9170, Val_loss: 0.5308, Val_accuracy: 0.8185\n",
      "Epoch [90/ 200], Loss: 0.1920, Accuracy: 0.9190, Val_loss: 0.5331, Val_accuracy: 0.8256\n",
      "Epoch [100/ 200], Loss: 0.1749, Accuracy: 0.9235, Val_loss: 0.6106, Val_accuracy: 0.8116\n",
      "Epoch [110/ 200], Loss: 0.1722, Accuracy: 0.9278, Val_loss: 0.5956, Val_accuracy: 0.8211\n",
      "Epoch [120/ 200], Loss: 0.1627, Accuracy: 0.9330, Val_loss: 0.6840, Val_accuracy: 0.8204\n",
      "Epoch [130/ 200], Loss: 0.1513, Accuracy: 0.9346, Val_loss: 0.7435, Val_accuracy: 0.8090\n",
      "Epoch [140/ 200], Loss: 0.1481, Accuracy: 0.9389, Val_loss: 0.7762, Val_accuracy: 0.8223\n",
      "Epoch [150/ 200], Loss: 0.1415, Accuracy: 0.9421, Val_loss: 0.7524, Val_accuracy: 0.8185\n",
      "Epoch [160/ 200], Loss: 0.1391, Accuracy: 0.9420, Val_loss: 0.7818, Val_accuracy: 0.8076\n",
      "Epoch [170/ 200], Loss: 0.1187, Accuracy: 0.9520, Val_loss: 0.9157, Val_accuracy: 0.8173\n",
      "Epoch [180/ 200], Loss: 0.1256, Accuracy: 0.9491, Val_loss: 0.9159, Val_accuracy: 0.8204\n",
      "Epoch [190/ 200], Loss: 0.1201, Accuracy: 0.9502, Val_loss: 0.9130, Val_accuracy: 0.8197\n",
      "Epoch [200/ 200], Loss: 0.1119, Accuracy: 0.9547, Val_loss: 1.0313, Val_accuracy: 0.8040\n",
      "\n",
      "More Epochs Model Elapsed Training Time: 278.98s\n",
      "More Epochs Test Loss: 1.1330 Accuracy: 0.7965\n"
     ]
    },
    {
     "data": {
      "image/png": "[encoded data removed]",
      "text/plain": [
       "<Figure size 576x432 with 1 Axes>"
      ]
     },
     "metadata": {
      "needs_background": "light"
     },
     "output_type": "display_data"
    },
    {
     "name": "stdout",
     "output_type": "stream",
     "text": [
      "\n",
      "Classification Report: More Epochs (Epochs=200)\n",
      "--------------------------------------------------\n"
     ]
    }
   ],
   "source": [
    "#increase the epochs\n",
    "epochs_model = keras.Sequential()\n",
    "epochs_model.add(keras.layers.InputLayer(input_shape=input_shape))\n",
    "epochs_model.add(keras.layers.Dense(units=64, activation='relu'))\n",
    "epochs_model.add(keras.layers.Dense(units=32, activation='relu'))\n",
    "epochs_model.add(keras.layers.Dense(units=16, activation='relu'))\n",
    "epochs_model.add(keras.layers.Dense(units=1, activation='sigmoid'))\n",
    "\n",
    "epochs_optimizer = keras.optimizers.SGD(learning_rate=0.1)\n",
    "\n",
    "epochs_loss_fn = keras.losses.BinaryCrossentropy(from_logits=False)\n",
    "\n",
    "epochs_model.compile(optimizer=epochs_optimizer, loss=epochs_loss_fn, metrics=['accuracy'])\n",
    "\n",
    "num_epochs_extended = 200 # INCREASED EPOCHS\n",
    "t0_epochs = time.time()\n",
    "history_epochs = epochs_model.fit(\n",
    "    X_train, y_train,\n",
    "    epochs=num_epochs_extended,\n",
    "    verbose=0,\n",
    "    callbacks=[ProgBarLoggerNEpochs(num_epochs_extended, every_n=10)],\n",
    "    validation_split=0.2,\n",
    ")\n",
    "t1_epochs = time.time()\n",
    "print(f'\\nMore Epochs Model Elapsed Training Time: {t1_epochs - t0_epochs:.2f}s')\n",
    "\n",
    "loss_epochs, accuracy_epochs = epochs_model.evaluate(X_test, y_test, verbose=0)\n",
    "print(f'More Epochs Test Loss: {loss_epochs:.4f} Accuracy: {accuracy_epochs:.4f}')\n",
    "\n",
    "probability_predictions_epochs = epochs_model.predict(X_test)\n",
    "class_label_predictions_epochs = (probability_predictions_epochs >= 0.5).astype(int).flatten()\n",
    "\n",
    "cm_epochs = confusion_matrix(y_test, class_label_predictions_epochs)\n",
    "plt.figure(figsize=(8, 6))\n",
    "sns.heatmap(cm_epochs, annot=True, fmt='d', cmap='Blues', cbar=False,\n",
    "            xticklabels=class_labels, yticklabels=class_labels)\n",
    "plt.xlabel('Predicted Label', fontsize=14)\n",
    "plt.ylabel('True Label', fontsize=14)\n",
    "plt.title('Confusion Matrix: More Epochs (Epochs=200)', fontsize=16)\n",
    "plt.show()\n",
    "\n",
    "print(\"\\nClassification Report: More Epochs (Epochs=200)\")\n",
    "\n",
    "print(\"-\" * 50)"
   ]
  },
  {
   "cell_type": "code",
   "execution_count": 23,
   "metadata": {},
   "outputs": [
    {
     "name": "stdout",
     "output_type": "stream",
     "text": [
      "\n",
      "Deeper/Wider Model Summary:\n",
      "Model: \"sequential_5\"\n",
      "_________________________________________________________________\n",
      "Layer (type)                 Output Shape              Param #   \n",
      "=================================================================\n",
      "dense_20 (Dense)             (None, 128)               6400      \n",
      "_________________________________________________________________\n",
      "dense_21 (Dense)             (None, 64)                8256      \n",
      "_________________________________________________________________\n",
      "dense_22 (Dense)             (None, 32)                2080      \n",
      "_________________________________________________________________\n",
      "dense_23 (Dense)             (None, 16)                528       \n",
      "_________________________________________________________________\n",
      "dense_24 (Dense)             (None, 1)                 17        \n",
      "=================================================================\n",
      "Total params: 17,281\n",
      "Trainable params: 17,281\n",
      "Non-trainable params: 0\n",
      "_________________________________________________________________\n",
      "Epoch [10/ 100], Loss: 0.3252, Accuracy: 0.8527, Val_loss: 0.3654, Val_accuracy: 0.8306\n",
      "Epoch [20/ 100], Loss: 0.2753, Accuracy: 0.8791, Val_loss: 0.3995, Val_accuracy: 0.8245\n",
      "Epoch [30/ 100], Loss: 0.2337, Accuracy: 0.9011, Val_loss: 0.4387, Val_accuracy: 0.8299\n",
      "Epoch [40/ 100], Loss: 0.1954, Accuracy: 0.9180, Val_loss: 0.4887, Val_accuracy: 0.8261\n",
      "Epoch [50/ 100], Loss: 0.1588, Accuracy: 0.9342, Val_loss: 0.5771, Val_accuracy: 0.8171\n",
      "Epoch [60/ 100], Loss: 0.1306, Accuracy: 0.9471, Val_loss: 0.6665, Val_accuracy: 0.8309\n",
      "Epoch [70/ 100], Loss: 0.1077, Accuracy: 0.9573, Val_loss: 0.7488, Val_accuracy: 0.8137\n",
      "Epoch [80/ 100], Loss: 0.0987, Accuracy: 0.9631, Val_loss: 0.7526, Val_accuracy: 0.8152\n",
      "Epoch [90/ 100], Loss: 0.0774, Accuracy: 0.9687, Val_loss: 1.0323, Val_accuracy: 0.8242\n",
      "Epoch [100/ 100], Loss: 0.0657, Accuracy: 0.9762, Val_loss: 1.0482, Val_accuracy: 0.8183\n",
      "\n",
      "Deeper/Wider Model Elapsed Training Time: 180.21s\n",
      "Deeper/Wider Test Loss: 1.1288 Accuracy: 0.8104\n"
     ]
    },
    {
     "data": {
      "image/png": "[encoded data removed]",
      "text/plain": [
       "<Figure size 576x432 with 1 Axes>"
      ]
     },
     "metadata": {
      "needs_background": "light"
     },
     "output_type": "display_data"
    },
    {
     "name": "stdout",
     "output_type": "stream",
     "text": [
      "\n",
      "Classification Report: Deeper/Wider Network\n",
      "--------------------------------------------------\n"
     ]
    }
   ],
   "source": [
    "#try adding more layers\n",
    "deeper_model = keras.Sequential()\n",
    "deeper_model.add(keras.layers.InputLayer(input_shape=input_shape))\n",
    "deeper_model.add(keras.layers.Dense(units=128, activation='relu')) # Wider\n",
    "deeper_model.add(keras.layers.Dense(units=64, activation='relu'))  # Wider\n",
    "deeper_model.add(keras.layers.Dense(units=32, activation='relu'))  # Wider\n",
    "deeper_model.add(keras.layers.Dense(units=16, activation='relu'))  # Added a new layer\n",
    "deeper_model.add(keras.layers.Dense(units=1, activation='sigmoid'))\n",
    "\n",
    "print(\"\\nDeeper/Wider Model Summary:\")\n",
    "deeper_model.summary()\n",
    "\n",
    "deeper_optimizer = keras.optimizers.SGD(learning_rate=0.1)\n",
    "deeper_loss_fn = keras.losses.BinaryCrossentropy(from_logits=False)\n",
    "deeper_model.compile(optimizer=deeper_optimizer, loss=deeper_loss_fn, metrics=['accuracy'])\n",
    "num_epochs_deeper = 100 \n",
    "t0_deeper = time.time()\n",
    "history_deeper = deeper_model.fit(\n",
    "    X_train, y_train,\n",
    "    epochs=num_epochs_deeper,\n",
    "    verbose=0,\n",
    "    callbacks=[ProgBarLoggerNEpochs(num_epochs_deeper, every_n=10)],\n",
    "    validation_split=0.2\n",
    ")\n",
    "t1_deeper = time.time()\n",
    "print(f'\\nDeeper/Wider Model Elapsed Training Time: {t1_deeper - t0_deeper:.2f}s')\n",
    "loss_deeper, accuracy_deeper = deeper_model.evaluate(X_test, y_test, verbose=0)\n",
    "print(f'Deeper/Wider Test Loss: {loss_deeper:.4f} Accuracy: {accuracy_deeper:.4f}')\n",
    "\n",
    "probability_predictions_deeper = deeper_model.predict(X_test)\n",
    "class_label_predictions_deeper = (probability_predictions_deeper >= 0.5).astype(int).flatten()\n",
    "\n",
    "cm_deeper = confusion_matrix(y_test, class_label_predictions_deeper)\n",
    "plt.figure(figsize=(8, 6))\n",
    "sns.heatmap(cm_deeper, annot=True, fmt='d', cmap='Blues', cbar=False,\n",
    "            xticklabels=class_labels, yticklabels=class_labels)\n",
    "plt.xlabel('Predicted Label', fontsize=14)\n",
    "plt.ylabel('True Label', fontsize=14)\n",
    "plt.title('Confusion Matrix: Deeper/Wider Network', fontsize=16)\n",
    "plt.show()\n",
    "\n",
    "print(\"\\nClassification Report: Deeper/Wider Network\")\n",
    "\n",
    "print(\"-\" * 50)"
   ]
  },
  {
   "cell_type": "markdown",
   "metadata": {},
   "source": [
    "\n",
    "after testing out lowering the learning rate, that turned out to give a better accuracy than the original model. The original model had accuracy at 0.8220096826553345, where the model with adjusted learning rate to 0.01 had a slightly better learning rate at Accuracy: 0.8289. \n",
    "Increasing the epochs and layers found more superhosts but also had more false results so they could be overfitting. "
   ]
  }
 ],
 "metadata": {
  "kernelspec": {
   "display_name": "Python 3",
   "language": "python",
   "name": "python3"
  },
  "language_info": {
   "codemirror_mode": {
    "name": "ipython",
    "version": 3
   },
   "file_extension": ".py",
   "mimetype": "text/x-python",
   "name": "python",
   "nbconvert_exporter": "python",
   "pygments_lexer": "ipython3",
   "version": "3.6.9"
  },
  "toc": {
   "base_numbering": 1,
   "nav_menu": {},
   "number_sections": false,
   "sideBar": true,
   "skip_h1_title": false,
   "title_cell": "Table of Contents",
   "title_sidebar": "Contents",
   "toc_cell": false,
   "toc_position": {},
   "toc_section_display": true,
   "toc_window_display": false
  },
  "varInspector": {
   "cols": {
    "lenName": 16,
    "lenType": 16,
    "lenVar": 40
   },
   "kernels_config": {
    "python": {
     "delete_cmd_postfix": "",
     "delete_cmd_prefix": "del ",
     "library": "var_list.py",
     "varRefreshCmd": "print(var_dic_list())"
    },
    "r": {
     "delete_cmd_postfix": ") ",
     "delete_cmd_prefix": "rm(",
     "library": "var_list.r",
     "varRefreshCmd": "cat(var_dic_list()) "
    }
   },
   "types_to_exclude": [
    "module",
    "function",
    "builtin_function_or_method",
    "instance",
    "_Feature"
   ],
   "window_display": false
  }
 },
 "nbformat": 4,
 "nbformat_minor": 4
}
